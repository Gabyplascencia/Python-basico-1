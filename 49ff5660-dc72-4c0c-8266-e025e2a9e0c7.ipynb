{
 "cells": [
  {
   "cell_type": "markdown",
   "metadata": {},
   "source": [
    "# Hola Gabriela!\n",
    "\n",
    "Mi nombre es David Bautista, soy code reviewer de TripleTen y voy a revisar el proyecto que acabas de desarrollar.\n",
    "\n",
    "Cuando vea un error la primera vez, lo señalaré. Deberás encontrarlo y arreglarlo. La intención es que te prepares para un espacio real de trabajo. En un trabajo, el líder de tu equipo hará lo mismo. Si no puedes solucionar el error, te daré más información en la próxima ocasión.\n",
    "\n",
    "Encontrarás mis comentarios más abajo - **por favor, no los muevas, no los modifiques ni los borres.**\n",
    "\n",
    "¿Cómo lo voy a hacer? Voy a leer detenidamente cada una de las implementaciones que has llevado a cabo para cumplir con lo solicitado. Verás los comentarios de esta forma:\n",
    "\n",
    "\n",
    "<div class=\"alert alert-block alert-success\">\n",
    "<b>Comentario del revisor</b> <a class=\"tocSkip\"></a>\n",
    "    \n",
    "Si todo está perfecto.\n",
    "</div>\n",
    "\n",
    "\n",
    "<div class=\"alert alert-block alert-warning\">\n",
    "<b>Comentario del revisor</b> <a class=\"tocSkip\"></a>\n",
    "    \n",
    "Si tu código está bien pero se puede mejorar o hay algún detalle que le hace falta.\n",
    "</div>\n",
    "\n",
    "\n",
    "<div class=\"alert alert-block alert-danger\">\n",
    "    \n",
    "<b>Comentario del revisor</b> <a class=\"tocSkip\"></a>\n",
    "    \n",
    "    \n",
    "Si de pronto hace falta algo o existe algún problema con tu código o conclusiones.\n",
    "</div>\n",
    "\n",
    "\n",
    "Puedes responderme de esta forma: \n",
    "\n",
    "<div class=\"alert alert-block alert-info\">\n",
    "<b>Respuesta del estudiante</b> <a class=\"tocSkip\"></a>\n",
    "</div\n",
    "\n",
    "¡Empecemos!"
   ]
  },
  {
   "cell_type": "markdown",
   "metadata": {},
   "source": [
    "<div class=\"alert alert-block alert-danger\">\n",
    "<b>Comentario del revisor</b> <a class=\"tocSkip\"></a>\n",
    "    \n",
    "# Comentario General\n",
    "    \n",
    "~~Hola Gabriela, te felicito por el desarrollo del proyecto hasta el momento. Ahora bien, he dejado diferentes comentarios para que los puedas temer en cuenta para la siguiente entrega.~~ </div>\n",
    "\n",
    "<div class=\"alert alert-block alert-danger\">\n",
    "<b>Comentario del revisor</b> <a class=\"tocSkip\"></a>\n",
    "    \n",
    "# Comentario General #2\n",
    "    \n",
    "~~Hola Gabriela, he dejado nuevos comentarios etiquetados con el #2 para que los puedas revisar. Te felicito por las modificaciones realizadas, vas muy bien.~~ </div>\n",
    "\n",
    "\n",
    "<div class=\"alert alert-block alert-danger\">\n",
    "<b>Comentario del revisor</b> <a class=\"tocSkip\"></a>\n",
    "    \n",
    "# Comentario General #3\n",
    "    \n",
    "~~Hola Gabriela, he dejado nuevos comentarios etiquetados con el #3 para que los puedas tener en cuenta para la sigiente entrega.~~ </div>"
   ]
  },
  {
   "cell_type": "markdown",
   "metadata": {},
   "source": [
    "<div class=\"alert alert-block alert-success\">\n",
    "<b>Comentario del revisor #4</b> <a class=\"tocSkip\"></a>\n",
    "    \n",
    "# Comentario General #4\n",
    "    \n",
    "Hola, Gabriela, tendré en cuenta tu comentario de la sección final por si tengo que revisar uno de tus futuros proyectos. Gracias por el feedback y espero sigas enamorada de este maravilloso mundo. Te va a sorprender todo lo que se puede llegar a aprender. Por otro lado, te felicito por el desarrollo del proyecto, muchas veces tal como lo mencionaste tenías pequeños errores los cuales siento que también pueden llegar a enriquecer el aprendizaje, si lo piensas, este tipo de errores van a ser cada vez menos comunes porque ya vas a tener las pilas puestas sobre como evitarlos.  </div>"
   ]
  },
  {
   "cell_type": "markdown",
   "metadata": {
    "id": "jrvwNQJi0P9l"
   },
   "source": [
    "Una empresa de comercio electrónico, Store 1, recientemente comenzó a recopilar datos sobre sus clientes. El objetivo final de Store 1 es comprender mejor el comportamiento de sus clientes y tomar decisiones basadas en datos para mejorar su experiencia online.\n",
    "\n",
    "Como parte del equipo de análisis, tu primera tarea es evaluar la calidad de una muestra de datos recopilados y prepararla para futuros análisis."
   ]
  },
  {
   "cell_type": "markdown",
   "metadata": {
    "id": "2utuFkVZ0P9p"
   },
   "source": [
    "# Cuestionario\n",
    "\n",
    "Store 1 tiene como objetivo garantizar la coherencia en la recopilación de datos. Como parte de esta iniciativa, se debe evaluar la calidad de los datos recopilados sobre los usuarios y las usuarias. Te han pedido que revises los datos recopilados y propongas cambios. A continuación verás datos sobre un usuario o una usuaria en particular; revisa los datos e identifica cualquier posible problema."
   ]
  },
  {
   "cell_type": "code",
   "execution_count": 1,
   "metadata": {
    "id": "v4ldWAes0P9q"
   },
   "outputs": [],
   "source": [
    "user_id = '32415'\n",
    "user_name = ' mike_reed '\n",
    "user_age = 32.0\n",
    "fav_categories = ['ELECTRONICS', 'SPORT', 'BOOKS']"
   ]
  },
  {
   "cell_type": "markdown",
   "metadata": {
    "id": "v5J9NgXf0P9r"
   },
   "source": [
    "**Opciones:**\n",
    "\n",
    "1. El tipo de datos para `user_id` debe cambiarse de una cadena a un número entero.\n",
    "    \n",
    "2. La variable `user_name` contiene una cadena que tiene espacios innecesarios y un guion bajo entre el nombre y el apellido.\n",
    "    \n",
    "3. El tipo de datos de `user_age` es incorrecto.\n",
    "    \n",
    "4. La lista `fav_categories` contiene cadenas en mayúsculas. En su lugar, deberíamos convertir los valores de la lista a minúsculas."
   ]
  },
  {
   "cell_type": "markdown",
   "metadata": {
    "id": "dZRSLSQV0P9s"
   },
   "source": [
    "Escribe en la celda Markdown a continuación el número de las opciones que has identificado como problemas. Si has identificado varios problemas, sepáralos con comas. Por ejemplo, si piensas que los números 1 y 3 son incorrectos, escribe 1, 3."
   ]
  },
  {
   "cell_type": "markdown",
   "metadata": {
    "id": "iCEVoi_A0P9s"
   },
   "source": [
    "# **Escribe tu respuesta y explica tu argumentación:**\n",
    "2, 3.\n",
    "El nombre contiene espacios innecesarios y está separado por un guíon bajo, dificultando la escritura e intercambio de código.\n",
    "La edad se puede cambiar a número entero para facilitar la lectura y por el tipo de dato, la edad es más fácil leer en número entero."
   ]
  },
  {
   "cell_type": "markdown",
   "metadata": {},
   "source": [
    "<div class=\"alert alert-block alert-success\">\n",
    "<b>Comentario del revisor</b> <a class=\"tocSkip\"></a>\n",
    "    \n",
    "Buen trabajo Gabriela. </div>"
   ]
  },
  {
   "cell_type": "markdown",
   "metadata": {
    "id": "qKAtWDqu0P9t"
   },
   "source": [
    "# Ejercicio 1\n",
    "\n",
    "Vamos a implementar los cambios que identificamos. Primero, necesitamos corregir los problemas de la variable `user_name`. Como vimos, tiene espacios innecesarios y un guion bajo como separador entre el nombre y el apellido; tu objetivo es eliminar los espacios y luego reemplazar el guion bajo con el espacio."
   ]
  },
  {
   "cell_type": "code",
   "execution_count": 2,
   "metadata": {
    "id": "442z87Uq0P9t",
    "scrolled": true
   },
   "outputs": [
    {
     "name": "stdout",
     "output_type": "stream",
     "text": [
      "mike reed\n"
     ]
    }
   ],
   "source": [
    "user_name = ' mike_reed '\n",
    "user_name = user_name.strip()# eliminar los espacios en la cadena original\n",
    "user_name = user_name.replace(\"_\", \" \")# reemplazar el guion bajo con el espacio\n",
    "\n",
    "print(user_name)\n",
    "                              #aplicar strip() y replace() dentro de la misma variable sin crear una nueva, solo indicando las modificaciones ha realizar."
   ]
  },
  {
   "cell_type": "markdown",
   "metadata": {},
   "source": [
    "<div class=\"alert alert-block alert-success\">\n",
    "<b>Comentario del revisor</b> <a class=\"tocSkip\"></a>\n",
    "    \n",
    "Perfecto, buen trabajo aplicando los métodos ``strip()`` y ``replace()``. </div>"
   ]
  },
  {
   "cell_type": "markdown",
   "metadata": {
    "id": "g4YyN4WK0P9t"
   },
   "source": [
    "# Ejercicio 2\n",
    "\n",
    "Luego, debemos dividir el `user_name` (nombre de usuario o usuaria) actualizado en dos subcadenas para obtener una lista que contenga dos valores: la cadena para el nombre y la cadena para el apellido."
   ]
  },
  {
   "cell_type": "code",
   "execution_count": 3,
   "metadata": {
    "id": "Q1L1ARfY0P9u"
   },
   "outputs": [
    {
     "name": "stdout",
     "output_type": "stream",
     "text": [
      "['mike', 'reed']\n"
     ]
    }
   ],
   "source": [
    "user_name = 'mike reed'\n",
    "name_split = user_name.split() #uso del metodo split para dividir\n",
    "\n",
    "#crear una lista separando cada valor (nombre y apellido),  creando subcadenas.\n",
    "\n",
    "print(name_split)"
   ]
  },
  {
   "cell_type": "markdown",
   "metadata": {},
   "source": [
    "<div class=\"alert alert-block alert-danger\">\n",
    "<b>Comentario del revisor</b> <a class=\"tocSkip\"></a>\n",
    "    \n",
    "~~Recuerda que en este ejercicio la idea es usar el método ``split()`` para poder separar el string por un carácter específico. ~~</div>\n",
    "\n",
    "<div class=\"alert alert-block alert-success\">\n",
    "<b>Comentario del revisor #2</b> <a class=\"tocSkip\"></a>\n",
    "    \n",
    "Perfecto, buen trabajo Gabriela.</div>"
   ]
  },
  {
   "cell_type": "markdown",
   "metadata": {
    "id": "-VWZkZtc0P9u"
   },
   "source": [
    "# Ejercicio 3\n",
    "\n",
    "¡Genial! Ahora debemos trabajar con la variable `user_age`. Como ya mencionamos, esta tiene un tipo de datos incorrecto. Arreglemos este problema transformando el tipo de datos y mostrando el resultado final."
   ]
  },
  {
   "cell_type": "code",
   "execution_count": 4,
   "metadata": {
    "id": "WPpidP470P9u"
   },
   "outputs": [
    {
     "name": "stdout",
     "output_type": "stream",
     "text": [
      "32\n"
     ]
    }
   ],
   "source": [
    "user_age = 32.0\n",
    "user_age = int(user_age)# cambia el tipo de datos para la edad de un usuario o usuaria\n",
    "\n",
    "#cambio a número entero con int()\n",
    "\n",
    "print(user_age)"
   ]
  },
  {
   "cell_type": "markdown",
   "metadata": {},
   "source": [
    "<div class=\"alert alert-block alert-success\">\n",
    "<b>Comentario del revisor</b> <a class=\"tocSkip\"></a>\n",
    "    \n",
    "Perfecto, buen trabajo transformando el tipo de dato de la variable. </div>"
   ]
  },
  {
   "cell_type": "markdown",
   "metadata": {
    "id": "xdfgaKd60P9v"
   },
   "source": [
    "# Ejercicio 4\n",
    "\n",
    "Como sabemos, los datos no siempre son perfectos. Debemos considerar escenarios en los que el valor de `user_age` no se pueda convertir en un número entero. Para evitar que nuestro sistema se bloquee, debemos tomar medidas con anticipación.\n",
    "\n",
    "Escribe un código que intente convertir la variable `user_age` en un número entero y asigna el valor transformado a `user_age_int`. Si el intento falla, mostramos un mensaje pidiendo al usuario o la usuaria que proporcione su edad como un valor numérico con el mensaje: `Please provide your age as a numerical value.` (Proporcione su edad como un valor numérico.)"
   ]
  },
  {
   "cell_type": "code",
   "execution_count": 5,
   "metadata": {
    "id": "duI5zn_O0P9v"
   },
   "outputs": [
    {
     "name": "stdout",
     "output_type": "stream",
     "text": [
      "Please provide your age as a numerical value.\n"
     ]
    }
   ],
   "source": [
    "user_age = 'treinta y dos' # aquí está la variable que almacena la edad como un string.\n",
    "\n",
    "\n",
    "#no es posible convertir string a valor númerico con la función INT\n",
    "#para evitar una falla en el error evidente usar el operador TRY, EXCEPT\n",
    "\n",
    "try:\n",
    "    user_age_int= int(user_age)\n",
    "    print(user_age_int)\n",
    "    \n",
    "except:\n",
    "    print(\"Please provide your age as a numerical value.\")\n",
    "       \n",
    "    # escribe un código que intente transformar user_age en un entero y si falla, imprime el mensaje especificado"
   ]
  },
  {
   "cell_type": "markdown",
   "metadata": {},
   "source": [
    "<div class=\"alert alert-block alert-success\">\n",
    "<b>Comentario del revisor</b> <a class=\"tocSkip\"></a>\n",
    "    \n",
    "Perfecto, Gabriela. Buen trabajo aplicando el ``try`` - ``except`` para solucionar este ejercicio. </div>"
   ]
  },
  {
   "cell_type": "markdown",
   "metadata": {
    "id": "Q04i6KQH0P9v"
   },
   "source": [
    "# Ejercicio 5\n",
    "\n",
    "Finalmente, considera que todas las categorías favoritas se almacenan en mayúsculas. Para llenar una nueva lista llamada `fav_categories_low` con las mismas categorías, pero en minúsculas, itera los valores en la lista `fav_categories`, modifícalos y agrega los nuevos valores a la lista `fav_categories_low`. Como siempre, muestra el resultado final."
   ]
  },
  {
   "cell_type": "code",
   "execution_count": 1,
   "metadata": {
    "id": "AtQg6ie10P9v"
   },
   "outputs": [
    {
     "name": "stdout",
     "output_type": "stream",
     "text": [
      "['electronics', 'sport', 'books']\n"
     ]
    }
   ],
   "source": [
    "fav_categories = ['ELECTRONICS', 'SPORT', 'BOOKS']\n",
    "fav_categories_low = []\n",
    "\n",
    "# escribe tu código aquí\n",
    "for fav_categorie in fav_categories:\n",
    "    fav_categorie = fav_categorie.lower()\n",
    " # creacion de un bucle para pasarlos a minúscula con lower\n",
    " #ya vi mi eror, en vez de imprimir poner la variable para dar la orden de poner minúsculas en esa variable   \n",
    "    fav_categories_low.append(fav_categorie)\n",
    "#unir nueva lista con los valores modificados\n",
    "\n",
    "# no elimines la siguiente declaración print\n",
    "print(fav_categories_low)"
   ]
  },
  {
   "cell_type": "markdown",
   "metadata": {},
   "source": [
    "<div class=\"alert alert-block alert-danger\">\n",
    "<b>Comentario del revisor</b> <a class=\"tocSkip\"></a>\n",
    "    \n",
    "~~Recuerda que en este ejercicio el ideal es usar un bucle para poder modificar cada uno de los elementos de la lista original y agregarlos a la lista final. Un método clave podría ser ``append()``.~~ </div>\n",
    "    \n",
    "    \n",
    "<div class=\"alert alert-block alert-danger\">\n",
    "<b>Comentario del revisor #2</b> <a class=\"tocSkip\"></a>\n",
    "    \n",
    "~~Usas una buena lógica; sin embargo, no se está guardando de manera correcta la modificación sobre cada palabra. Podrías aplicar la siguiente estructura. ~~\n",
    "    \n",
    "```python\n",
    "fav_categories = ['ELECTRONICS', 'SPORT', 'BOOKS']\n",
    "fav_categories_low = []\n",
    "\n",
    "\n",
    "for fav_categorie in fav_categories:\n",
    "    fav_categorie = fav_categorie.lower()\n",
    "    fav_categories_low.append(fav_categorie)\n",
    "print(fav_categories_low)    \n",
    "```\n",
    "</div>"
   ]
  },
  {
   "cell_type": "markdown",
   "metadata": {},
   "source": [
    "<div class=\"alert alert-block alert-success\">\n",
    "<b>Comentario del revisor #3</b> <a class=\"tocSkip\"></a>\n",
    "    \n",
    "Perfecto, buen trabajo Gabriela. </div>\n",
    "    "
   ]
  },
  {
   "cell_type": "markdown",
   "metadata": {
    "id": "w8J0RSee0P9w"
   },
   "source": [
    "# Ejercicio 6\n",
    "\n",
    "Hemos obtenido información adicional sobre los hábitos de gasto de nuestros usuarios y usuarias, incluido el importe gastado en cada una de sus categorías favoritas. La gerencia está interesada en las siguientes métricas:\n",
    "\n",
    "- Importe total gastado por el usuario o la usuaria.\n",
    "- Importe mínimo gastado.\n",
    "- Importe máximo gastado.\n",
    "\n",
    "Vamos a calcular estos valores y mostrarlos en la pantalla:"
   ]
  },
  {
   "cell_type": "code",
   "execution_count": 7,
   "metadata": {
    "id": "BbhBAmcZ0P9w"
   },
   "outputs": [
    {
     "name": "stdout",
     "output_type": "stream",
     "text": [
      "1280\n",
      "894\n",
      "173\n"
     ]
    }
   ],
   "source": [
    "fav_categories_low = ['electronics', 'sport', 'books']\n",
    "spendings_per_category = [894, 213, 173]\n",
    "\n",
    "total_amount = sum(spendings_per_category) # escribe tu código aquí\n",
    "max_amount = max(spendings_per_category)# escribe tu código aquí\n",
    "min_amount = min(spendings_per_category)# escribe tu código aquí\n",
    "\n",
    "#sacamos el total, máximo y mínimo de los gastos con dichas funciones.\n",
    "\n",
    "# no elimines la siguiente declaración print\n",
    "print(total_amount)\n",
    "print(max_amount)\n",
    "print(min_amount)"
   ]
  },
  {
   "cell_type": "markdown",
   "metadata": {},
   "source": [
    "<div class=\"alert alert-block alert-success\">\n",
    "<b>Comentario del revisor</b> <a class=\"tocSkip\"></a>\n",
    "    \n",
    "Perfecto, buen trabajo realizando los cálculos con las funciones predeterminadas de suma, máximo y mínimo. </div>"
   ]
  },
  {
   "cell_type": "markdown",
   "metadata": {
    "id": "hyPGzOt60P9w"
   },
   "source": [
    "# Ejercicio 7\n",
    "\n",
    "La empresa quiere ofrecer descuentos a sus clientes leales. Los clientes y las clientas que realizan compras por un importe total mayor a $1500 se consideran leales y recibirán un descuento.\n",
    "\n",
    "Nuestro objetivo es crear un bucle `while` que compruebe el importe total gastado y se detenga al alcanzarlo. Para simular nuevas compras, la variable `new_purchase` genera un número entre 30 y 80 en cada iteración del bucle. Esto representa el importe de dinero gastado en una nueva compra y es lo que hay que sumar al total.\n",
    "\n",
    "Una vez que se alcance el importe objetivo y se termine el bucle `while`, se mostrará la cantidad final."
   ]
  },
  {
   "cell_type": "code",
   "execution_count": 8,
   "metadata": {
    "id": "FmpTfK7C0P9x"
   },
   "outputs": [
    {
     "name": "stdout",
     "output_type": "stream",
     "text": [
      "1280\n"
     ]
    }
   ],
   "source": [
    "from random import randint\n",
    "\n",
    "total_amount_spent = 1280\n",
    "target_amount = 1500\n",
    "\n",
    "while total_amount_spent >= target_amount: # escribe tu código aquí\n",
    "    #compara, mientras total sea mayor o igual al importe mínimo deseado por la empresa (1500)\n",
    "\tnew_purchase = randint(30, 80) # generamos un número aleatorio de 30 a 80\n",
    "\ttotal_amount_spent += new_purchase # escribe tu código aquí\n",
    "#cuando el total y nuevas compras se vayan sumando se irá reflejando la cantidad de cada ususario para ver si son leales.En este caso no tenemos un valor para parar.\n",
    "\n",
    "print(total_amount_spent)"
   ]
  },
  {
   "cell_type": "markdown",
   "metadata": {},
   "source": [
    "<div class=\"alert alert-block alert-success\">\n",
    "<b>Comentario del revisor</b> <a class=\"tocSkip\"></a>\n",
    "    \n",
    "Perfecto, buen trabajo estructurando el bucle ``while``. </div>"
   ]
  },
  {
   "cell_type": "markdown",
   "metadata": {
    "id": "e9j2dOo60P9x"
   },
   "source": [
    "# Ejercicio 8\n",
    "\n",
    "Ahora tenemos toda la información sobre un cliente o una clienta de la forma que queremos que sea. La gerencia de una empresa nos pidió proponer una forma de resumir toda la información sobre un usuario o una usuaria. Tu objetivo es crear una cadena formateada que utilice información de las variables `user_id`, `user_name` y `user_age`.\n",
    "\n",
    "Esta es la cadena final que queremos crear: `User 32415 is mike who is 32 years old.` (El usuario 32415 es Mike, quien tiene 32 años)."
   ]
  },
  {
   "cell_type": "code",
   "execution_count": 13,
   "metadata": {
    "id": "2dzhjYbm0P9x"
   },
   "outputs": [
    {
     "name": "stdout",
     "output_type": "stream",
     "text": [
      "User 32415 is mike who is 32 years old\n"
     ]
    }
   ],
   "source": [
    "user_id = '32415'\n",
    "user_name = ['mike', 'reed']\n",
    "user_age = 32\n",
    "\n",
    "user_info =\"User {} is {} who is {} years old\".format(user_id, user_name[0], user_age)# escribe tu código aquí\n",
    "\n",
    "#añadí [] para seleccionar solo el índice del nombre del usuario, para mejorar la visibilidad de la info del cliente.\n",
    "\n",
    "#aplica un método format para lograr la impresion deseada.\n",
    "# no elimines la siguiente declaración print\n",
    "print(user_info)"
   ]
  },
  {
   "cell_type": "markdown",
   "metadata": {},
   "source": [
    "<div class=\"alert alert-block alert-danger\">\n",
    "<b>Comentario del revisor</b> <a class=\"tocSkip\"></a>\n",
    "    \n",
    "~~Buen trabajo con el formato de texto, sin embargo, recuerda que podrías acceder al primer elemento de la lista ``user_name`` para que la salida final se vea de mejor manera.~~ </div>\n",
    "\n",
    "<div class=\"alert alert-block alert-success\">\n",
    "<b>Comentario del revisor #2</b> <a class=\"tocSkip\"></a>\n",
    "    \n",
    "Perfecto, buen trabajo. </div>"
   ]
  },
  {
   "cell_type": "markdown",
   "metadata": {
    "id": "hJ38hJYU0P9x"
   },
   "source": [
    "Como sabes, las empresas recopilan y almacenan datos de una forma particular. Store 1 desea almacenar toda la información sobre sus clientes y clientas en una tabla.\n",
    "\n",
    "| user_id | user_name | user_age | purchase_category | spending_per_category |\n",
    "| --- | --- | --- | --- | --- |\n",
    "| '32415' | 'mike', 'reed' | 32 | 'electronics', 'sport', 'books' | 894, 213, 173 |\n",
    "| '31980' | 'kate', 'morgan' | 24 | 'clothes', 'shoes' | 439, 390 |\n",
    "\n",
    "En términos técnicos, una tabla es simplemente una lista anidada que contiene una sublista para cada usuario o usuaria.\n",
    "\n",
    "Store 1 ha creado una tabla de este tipo para sus usuarios y usuarias. Se almacena en la variable `users`. Cada sublista contiene el ID del usuario o la usuaria, nombre y apellido, edad, categorías favoritas y el importe gastado en cada categoría."
   ]
  },
  {
   "cell_type": "markdown",
   "metadata": {
    "id": "J7IXD3Zv0P9x"
   },
   "source": [
    "# Ejercicio 9\n",
    "\n",
    "Para calcular los ingresos de la empresa, sigue estos pasos.\n",
    "\n",
    "1. Utiliza `for` para iterar sobre la lista `users`.\n",
    "2. Extrae la lista de gastos de cada usuario o usuaria y suma los valores.\n",
    "3. Actualiza el valor de los ingresos con el total de cada usuario o usuaria.\n",
    "\n",
    "Así obtendrás los ingresos totales de la empresa que mostrarás en la pantalla al final."
   ]
  },
  {
   "cell_type": "code",
   "execution_count": 22,
   "metadata": {
    "id": "d8jeNWXQ0P9y"
   },
   "outputs": [
    {
     "name": "stdout",
     "output_type": "stream",
     "text": [
      "1280\n",
      "829\n",
      "2109\n"
     ]
    }
   ],
   "source": [
    "users = [\n",
    "\t  # este es el inicio de la primera sublista\n",
    "    ['32415', ['mike', 'reed'], 32, ['electronics', 'sport', 'books'],\n",
    "        [894, 213, 173]\n",
    "    ], # este es el final de la primera sublista\n",
    "\n",
    "    # este es el inicio de la segunda sublista\n",
    "    ['31980', ['kate', 'morgan'], 24, ['clothes', 'shoes'],\n",
    "        [439, 390]\n",
    "    ] # este es el final de la segunda sublista\n",
    "]\n",
    "\n",
    "revenue = 0\n",
    "\n",
    "for user in users:\n",
    "    print(sum(user[4]))\n",
    "    revenue += sum(user[4])#suma de los gastos de cada cliente\n",
    "    # actualiza los ingresos\n",
    "    #agrege la suma a revenue para sumar los gastos de los usuarios   \n",
    "    \n",
    "# no elimines la siguiente declaración print\n",
    "print(revenue)"
   ]
  },
  {
   "cell_type": "markdown",
   "metadata": {},
   "source": [
    "<div class=\"alert alert-block alert-danger\">\n",
    "<b>Comentario del revisor</b> <a class=\"tocSkip\"></a>\n",
    "    \n",
    "Gabriela, es importante que reconstruyas paso a paso el bucle, ya que hay un problema de identificación. Recuerda que al construir el bucle y dar enter, automáticamente se sitúa el cursor en la línea en la que debes seguir desarrollando cada parte del código. </div>\n",
    "\n",
    "<div class=\"alert alert-block alert-danger\">\n",
    "<b>Comentario del revisor #2</b> <a class=\"tocSkip\"></a>\n",
    "    \n",
    "~~Te falta estructurar el código de manera que se pueda actualizar el valor de los ingresos. Intenta seguir la estructura del bucle de código anterior.~~ </div>\n",
    "\n",
    "<div class=\"alert alert-block alert-success\">\n",
    "<b>Comentario del revisor #3</b> <a class=\"tocSkip\"></a>\n",
    "    \n",
    "Buen trabajo Gabriela. </div>\n",
    "    "
   ]
  },
  {
   "cell_type": "markdown",
   "metadata": {
    "id": "wR0om7Tk0P9y"
   },
   "source": [
    "# Ejercicio 10\n",
    "\n",
    "Recorre la lista de usuarios y usuarias que te hemos proporcionado y muestra los nombres de la clientela menor de 30 años."
   ]
  },
  {
   "cell_type": "code",
   "execution_count": 8,
   "metadata": {
    "id": "KVdthJm70P9y"
   },
   "outputs": [
    {
     "name": "stdout",
     "output_type": "stream",
     "text": [
      "[['kate', 'morgan'], ['samantha', 'smith'], ['emily', 'brown'], ['jose', 'martinez'], ['james', 'lee']]\n"
     ]
    }
   ],
   "source": [
    "users = [\n",
    "    ['32415', ['mike', 'reed'], 32, ['electronics', 'sport', 'books'],\n",
    "     [894, 213, 173]],\n",
    "    ['31980', ['kate', 'morgan'], 24, ['clothes', 'books'], [439,\n",
    "     390]],\n",
    "    ['32156', ['john', 'doe'], 37, ['electronics', 'home', 'food'],\n",
    "     [459, 120, 99]],\n",
    "    ['32761', ['samantha', 'smith'], 29, ['clothes', 'electronics',\n",
    "     'beauty'], [299, 679, 85]],\n",
    "    ['32984', ['david', 'white'], 41, ['books', 'home', 'sport'], [234,\n",
    "     329, 243]],\n",
    "    ['33001', ['emily', 'brown'], 26, ['beauty', 'home', 'food'], [213,\n",
    "     659, 79]],\n",
    "    ['33767', ['maria', 'garcia'], 33, ['clothes', 'food', 'beauty'],\n",
    "     [499, 189, 63]],\n",
    "    ['33912', ['jose', 'martinez'], 22, ['sport', 'electronics', 'home'\n",
    "     ], [259, 549, 109]],\n",
    "    ['34009', ['lisa', 'wilson'], 35, ['home', 'books', 'clothes'],\n",
    "     [329, 189, 329]],\n",
    "    ['34278', ['james', 'lee'], 28, ['beauty', 'clothes', 'electronics'\n",
    "     ], [189, 299, 579]],\n",
    "    ]\n",
    "young_users=[] #crear nueva lista para lo filtros\n",
    "\n",
    "for user in users:\n",
    " if user [2]<30:#creando el filtro para la edad menores a 30\n",
    "        young_users.append(user[1])\n",
    "        \n",
    "print(young_users)     ##imprimos usarios filtrados\n",
    "        # escribe tu código aquí"
   ]
  },
  {
   "cell_type": "markdown",
   "metadata": {},
   "source": [
    "<div class=\"alert alert-block alert-danger\">\n",
    "<b>Comentario del revisor</b> <a class=\"tocSkip\"></a>\n",
    "    \n",
    "~~Desarrollas el bucle con una buena lógica, sin embargo, recuerda que el ideal es únicamente mostrar el nombre de los clientes que cumplen con la condición respectiva.~~ </div>\n",
    "\n",
    "<div class=\"alert alert-block alert-success\">\n",
    "<b>Comentario del revisor #2</b> <a class=\"tocSkip\"></a>\n",
    "    \n",
    "Perfecto, buen trabajo. </div>"
   ]
  },
  {
   "cell_type": "markdown",
   "metadata": {
    "id": "LBHWQenm0P9y"
   },
   "source": [
    "# Ejercicio 11\n",
    "\n",
    "Juntemos las tareas 9 y 10 e imprimamos los nombres de los usuarios y las usuarias que tengan menos de 30 años y un gasto total superior a 1000 dólares."
   ]
  },
  {
   "cell_type": "code",
   "execution_count": 14,
   "metadata": {
    "id": "HaQNXS-V0P9z"
   },
   "outputs": [
    {
     "name": "stdout",
     "output_type": "stream",
     "text": [
      "[['samantha', 'smith'], ['james', 'lee']]\n"
     ]
    }
   ],
   "source": [
    "users = [\n",
    "    ['32415', ['mike', 'reed'], 32, ['electronics', 'sport', 'books'],\n",
    "     [894, 213, 173]],\n",
    "    ['31980', ['kate', 'morgan'], 24, ['clothes', 'books'], [439,\n",
    "     390]],\n",
    "    ['32156', ['john', 'doe'], 37, ['electronics', 'home', 'food'],\n",
    "     [459, 120, 99]],\n",
    "    ['32761', ['samantha', 'smith'], 29, ['clothes', 'electronics',\n",
    "     'beauty'], [299, 679, 85]],\n",
    "    ['32984', ['david', 'white'], 41, ['books', 'home', 'sport'], [234,\n",
    "     329, 243]],\n",
    "    ['33001', ['emily', 'brown'], 26, ['beauty', 'home', 'food'], [213,\n",
    "     659, 79]],\n",
    "    ['33767', ['maria', 'garcia'], 33, ['clothes', 'food', 'beauty'],\n",
    "     [499, 189, 63]],\n",
    "    ['33912', ['jose', 'martinez'], 22, ['sport', 'electronics', 'home'\n",
    "     ], [259, 549, 109]],\n",
    "    ['34009', ['lisa', 'wilson'], 35, ['home', 'books', 'clothes'],\n",
    "     [329, 189, 329]],\n",
    "    ['34278', ['james', 'lee'], 28, ['beauty', 'clothes', 'electronics'\n",
    "     ], [189, 299, 579]],\n",
    "    ]\n",
    "\n",
    "select_users=[] #crear nueva lista para lo filtros\n",
    "\n",
    "for user in users:\n",
    " if user [2]<30 and sum(user[4])>1000:#creando el filtro para la edad e ingresos \n",
    "        select_users.append(user[1])\n",
    "        \n",
    "print(select_users)  # escribe tu código a"
   ]
  },
  {
   "cell_type": "markdown",
   "metadata": {},
   "source": [
    "<div class=\"alert alert-block alert-danger\">\n",
    "<b>Comentario del revisor</b> <a class=\"tocSkip\"></a>\n",
    "    \n",
    "~~Recuerda que cuando accedes a user[4] deberías usar un ``sum()``, ya que estás accediendo a una lista. ~~"
   ]
  },
  {
   "cell_type": "markdown",
   "metadata": {},
   "source": [
    "<div class=\"alert alert-block alert-success\">\n",
    "<b>Comentario del revisor #2</b> <a class=\"tocSkip\"></a>\n",
    "    \n",
    "Perfecto, buen trabajo. </div>"
   ]
  },
  {
   "cell_type": "markdown",
   "metadata": {
    "id": "yRozkK0R0P90"
   },
   "source": [
    "# Ejercicio 12\n",
    "\n",
    "Ahora vamos a mostrar el nombre y la edad de todos los usuarios y todas las usuarias que han comprado ropa. Imprime el nombre y la edad en la misma declaración print."
   ]
  },
  {
   "cell_type": "code",
   "execution_count": 10,
   "metadata": {
    "id": "mSIyHq1f0P90"
   },
   "outputs": [
    {
     "name": "stdout",
     "output_type": "stream",
     "text": [
      "[[['kate', 'morgan'], 24], [['samantha', 'smith'], 29], [['maria', 'garcia'], 33], [['lisa', 'wilson'], 35], [['james', 'lee'], 28]]\n"
     ]
    }
   ],
   "source": [
    "users = [\n",
    "    ['32415', ['mike', 'reed'], 32, ['electronics', 'sport', 'books'],\n",
    "     [894, 213, 173]],\n",
    "    ['31980', ['kate', 'morgan'], 24, ['clothes', 'books'], [439,\n",
    "     390]],\n",
    "    ['32156', ['john', 'doe'], 37, ['electronics', 'home', 'food'],\n",
    "     [459, 120, 99]],\n",
    "    ['32761', ['samantha', 'smith'], 29, ['clothes', 'electronics',\n",
    "     'beauty'], [299, 679, 85]],\n",
    "    ['32984', ['david', 'white'], 41, ['books', 'home', 'sport'], [234,\n",
    "     329, 243]],\n",
    "    ['33001', ['emily', 'brown'], 26, ['beauty', 'home', 'food'], [213,\n",
    "     659, 79]],\n",
    "    ['33767', ['maria', 'garcia'], 33, ['clothes', 'food', 'beauty'],\n",
    "     [499, 189, 63]],\n",
    "    ['33912', ['jose', 'martinez'], 22, ['sport', 'electronics', 'home'\n",
    "     ], [259, 549, 109]],\n",
    "    ['34009', ['lisa', 'wilson'], 35, ['home', 'books', 'clothes'],\n",
    "     [329, 189, 329]],\n",
    "    ['34278', ['james', 'lee'], 28, ['beauty', 'clothes', 'electronics'\n",
    "     ], [189, 299, 579]],\n",
    "    ]\n",
    "\n",
    "clothes_users=[]\n",
    "\n",
    "for user in users:\n",
    "    if \"clothes\" in user[3]:#creando el filtro para la ropa \n",
    "        clothes_users.append(user[1:3]) #aqui trate de pedir que incluya solo los indices 1 y 2 \n",
    "        \n",
    "print(clothes_users)"
   ]
  },
  {
   "cell_type": "markdown",
   "metadata": {},
   "source": [
    "<div class=\"alert alert-block alert-danger\">\n",
    "<b>Comentario del revisor</b> <a class=\"tocSkip\"></a>\n",
    "    \n",
    "~~En este ejercicio el ideal sería usar la sentencia ``in``. Esta te permite ver si un elemento se encuentra o no dentro de una lista~~.  </div>\n",
    "    \n",
    "    \n",
    "<div class=\"alert alert-block alert-danger\">\n",
    "<b>Comentario del revisor #2</b> <a class=\"tocSkip\"></a>\n",
    "    \n",
    "~~Perfecto, ahora solo debes tener en cuenta que el iedal es imprimir unicamente el nombre y la edad de los clientes~~. </div>\n",
    "\n",
    "<div class=\"alert alert-block alert-danger\">\n",
    "<b>Comentario del revisor #3</b> <a class=\"tocSkip\"></a>\n",
    "    \n",
    "~~Aun no se ha terminado de tener en cuenta los comentarios anteriores Gabriela.~~ </div>"
   ]
  },
  {
   "cell_type": "markdown",
   "metadata": {},
   "source": [
    "Amo con toda locura esto, pero me decesperó sobre manera que muchas veces no da por errores de dedo, y es esta última vez fue un poco frustrante no tener una indicación que me guiará sobre donde estaba una S extra que tenía. Fuera de eso estoy enamorada del curso.\n",
    "Gracias por tu ayuda :)"
   ]
  },
  {
   "cell_type": "markdown",
   "metadata": {},
   "source": []
  },
  {
   "cell_type": "markdown",
   "metadata": {
    "id": "Bq0_-hvu0P91"
   },
   "source": [
    "#Escribe aquí cualquier comentario o reflexión final"
   ]
  }
 ],
 "metadata": {
  "ExecuteTimeLog": [
   {
    "duration": 11,
    "start_time": "2024-08-08T16:48:34.821Z"
   },
   {
    "duration": 5,
    "start_time": "2024-08-08T16:48:59.824Z"
   },
   {
    "duration": 4,
    "start_time": "2024-08-08T16:50:25.314Z"
   },
   {
    "duration": 5,
    "start_time": "2024-08-08T16:50:54.930Z"
   },
   {
    "duration": 4,
    "start_time": "2024-08-08T16:51:25.691Z"
   },
   {
    "duration": 5,
    "start_time": "2024-08-08T16:54:19.588Z"
   },
   {
    "duration": 5,
    "start_time": "2024-08-08T16:56:16.096Z"
   },
   {
    "duration": 9,
    "start_time": "2024-08-08T17:01:42.988Z"
   },
   {
    "duration": 5,
    "start_time": "2024-08-08T17:02:46.855Z"
   },
   {
    "duration": 5,
    "start_time": "2024-08-08T17:06:37.376Z"
   },
   {
    "duration": 5,
    "start_time": "2024-08-08T17:07:08.151Z"
   },
   {
    "duration": 7,
    "start_time": "2024-08-08T17:07:47.028Z"
   },
   {
    "duration": 5,
    "start_time": "2024-08-08T17:07:56.721Z"
   },
   {
    "duration": 304,
    "start_time": "2024-08-08T17:08:13.186Z"
   },
   {
    "duration": 6,
    "start_time": "2024-08-08T17:16:47.666Z"
   },
   {
    "duration": 22,
    "start_time": "2024-08-08T17:21:18.436Z"
   },
   {
    "duration": 22,
    "start_time": "2024-08-08T17:23:42.594Z"
   },
   {
    "duration": 22,
    "start_time": "2024-08-08T17:25:36.773Z"
   },
   {
    "duration": 23,
    "start_time": "2024-08-08T17:25:44.934Z"
   },
   {
    "duration": 23,
    "start_time": "2024-08-08T17:25:54.734Z"
   },
   {
    "duration": 25,
    "start_time": "2024-08-08T17:29:05.151Z"
   },
   {
    "duration": 6,
    "start_time": "2024-08-08T17:33:13.993Z"
   },
   {
    "duration": 6,
    "start_time": "2024-08-08T17:35:08.106Z"
   },
   {
    "duration": 5,
    "start_time": "2024-08-08T17:35:32.225Z"
   },
   {
    "duration": 12,
    "start_time": "2024-08-08T17:37:37.818Z"
   },
   {
    "duration": 5,
    "start_time": "2024-08-08T17:39:01.224Z"
   },
   {
    "duration": 5,
    "start_time": "2024-08-08T17:39:30.986Z"
   },
   {
    "duration": 6,
    "start_time": "2024-08-08T17:41:02.969Z"
   },
   {
    "duration": 5,
    "start_time": "2024-08-08T17:43:01.962Z"
   },
   {
    "duration": 8,
    "start_time": "2024-08-08T17:46:25.967Z"
   },
   {
    "duration": 6,
    "start_time": "2024-08-08T17:47:15.039Z"
   },
   {
    "duration": 8,
    "start_time": "2024-08-08T17:58:08.092Z"
   },
   {
    "duration": 60,
    "start_time": "2024-08-08T17:58:25.458Z"
   },
   {
    "duration": 28,
    "start_time": "2024-08-08T17:59:01.511Z"
   },
   {
    "duration": 27,
    "start_time": "2024-08-08T17:59:32.950Z"
   },
   {
    "duration": 26,
    "start_time": "2024-08-08T17:59:57.205Z"
   },
   {
    "duration": 10,
    "start_time": "2024-08-08T18:00:14.276Z"
   },
   {
    "duration": 27,
    "start_time": "2024-08-08T18:02:29.751Z"
   },
   {
    "duration": 7,
    "start_time": "2024-08-08T18:03:00.786Z"
   },
   {
    "duration": 6,
    "start_time": "2024-08-08T18:42:35.923Z"
   },
   {
    "duration": 6,
    "start_time": "2024-08-08T18:43:31.884Z"
   },
   {
    "duration": 10,
    "start_time": "2024-08-08T18:44:06.446Z"
   },
   {
    "duration": 14,
    "start_time": "2024-08-08T18:44:28.216Z"
   },
   {
    "duration": 7,
    "start_time": "2024-08-08T18:44:41.395Z"
   },
   {
    "duration": 14,
    "start_time": "2024-08-08T18:45:22.207Z"
   },
   {
    "duration": 7,
    "start_time": "2024-08-08T18:46:03.158Z"
   },
   {
    "duration": 10,
    "start_time": "2024-08-08T18:46:15.536Z"
   },
   {
    "duration": 13,
    "start_time": "2024-08-08T18:52:03.032Z"
   },
   {
    "duration": 10,
    "start_time": "2024-08-08T18:52:13.409Z"
   },
   {
    "duration": 40,
    "start_time": "2024-08-08T18:55:21.749Z"
   },
   {
    "duration": 40,
    "start_time": "2024-08-08T18:55:30.988Z"
   },
   {
    "duration": 6,
    "start_time": "2024-08-08T18:57:45.183Z"
   },
   {
    "duration": 36,
    "start_time": "2024-08-08T18:59:32.802Z"
   },
   {
    "duration": 39,
    "start_time": "2024-08-08T19:00:32.957Z"
   },
   {
    "duration": 10,
    "start_time": "2024-08-08T19:04:19.133Z"
   },
   {
    "duration": 38,
    "start_time": "2024-08-08T19:07:34.458Z"
   },
   {
    "duration": 11,
    "start_time": "2024-08-08T19:07:53.891Z"
   },
   {
    "duration": 38,
    "start_time": "2024-08-08T19:19:09.394Z"
   },
   {
    "duration": 10,
    "start_time": "2024-08-09T14:26:42.770Z"
   },
   {
    "duration": 5,
    "start_time": "2024-08-09T14:26:42.784Z"
   },
   {
    "duration": 5,
    "start_time": "2024-08-09T14:26:42.792Z"
   },
   {
    "duration": 5,
    "start_time": "2024-08-09T14:26:42.801Z"
   },
   {
    "duration": 5,
    "start_time": "2024-08-09T14:26:42.812Z"
   },
   {
    "duration": 337,
    "start_time": "2024-08-09T14:26:42.819Z"
   },
   {
    "duration": 0,
    "start_time": "2024-08-09T14:26:43.160Z"
   },
   {
    "duration": 0,
    "start_time": "2024-08-09T14:26:43.162Z"
   },
   {
    "duration": 0,
    "start_time": "2024-08-09T14:26:43.163Z"
   },
   {
    "duration": 0,
    "start_time": "2024-08-09T14:26:43.166Z"
   },
   {
    "duration": 0,
    "start_time": "2024-08-09T14:26:43.168Z"
   },
   {
    "duration": 0,
    "start_time": "2024-08-09T14:26:43.170Z"
   },
   {
    "duration": 0,
    "start_time": "2024-08-09T14:26:43.171Z"
   },
   {
    "duration": 6,
    "start_time": "2024-08-09T14:33:35.169Z"
   },
   {
    "duration": 6,
    "start_time": "2024-08-09T14:40:17.914Z"
   },
   {
    "duration": 5,
    "start_time": "2024-08-09T14:41:05.367Z"
   },
   {
    "duration": 5,
    "start_time": "2024-08-09T14:45:25.441Z"
   },
   {
    "duration": 5,
    "start_time": "2024-08-09T14:45:42.629Z"
   },
   {
    "duration": 12,
    "start_time": "2024-08-09T14:47:31.597Z"
   },
   {
    "duration": 39,
    "start_time": "2024-08-09T14:50:28.088Z"
   },
   {
    "duration": 10,
    "start_time": "2024-08-09T14:52:37.298Z"
   },
   {
    "duration": 11,
    "start_time": "2024-08-12T15:25:56.540Z"
   },
   {
    "duration": 317,
    "start_time": "2024-08-12T15:26:50.149Z"
   },
   {
    "duration": 5,
    "start_time": "2024-08-12T15:27:05.052Z"
   },
   {
    "duration": 24,
    "start_time": "2024-08-12T15:31:08.056Z"
   },
   {
    "duration": 24,
    "start_time": "2024-08-12T15:32:12.524Z"
   },
   {
    "duration": 5,
    "start_time": "2024-08-12T15:32:33.341Z"
   },
   {
    "duration": 28,
    "start_time": "2024-08-12T15:33:54.728Z"
   },
   {
    "duration": 25,
    "start_time": "2024-08-12T15:34:42.055Z"
   },
   {
    "duration": 6,
    "start_time": "2024-08-12T15:34:50.101Z"
   },
   {
    "duration": 6,
    "start_time": "2024-08-12T15:36:09.071Z"
   },
   {
    "duration": 25,
    "start_time": "2024-08-12T15:36:55.580Z"
   },
   {
    "duration": 5,
    "start_time": "2024-08-12T15:37:13.218Z"
   },
   {
    "duration": 6,
    "start_time": "2024-08-12T15:40:49.783Z"
   },
   {
    "duration": 9,
    "start_time": "2024-08-12T15:47:19.894Z"
   },
   {
    "duration": 12,
    "start_time": "2024-08-12T15:53:12.632Z"
   },
   {
    "duration": 12,
    "start_time": "2024-08-12T15:53:33.951Z"
   },
   {
    "duration": 17,
    "start_time": "2024-08-12T16:32:11.958Z"
   },
   {
    "duration": 8,
    "start_time": "2024-08-12T16:32:44.981Z"
   },
   {
    "duration": 8,
    "start_time": "2024-08-12T16:34:08.908Z"
   },
   {
    "duration": 317,
    "start_time": "2024-08-12T16:34:24.399Z"
   },
   {
    "duration": 29,
    "start_time": "2024-08-12T16:36:20.745Z"
   },
   {
    "duration": 28,
    "start_time": "2024-08-12T16:37:01.757Z"
   },
   {
    "duration": 12,
    "start_time": "2024-08-12T16:38:17.030Z"
   },
   {
    "duration": 12,
    "start_time": "2024-08-12T16:40:48.060Z"
   },
   {
    "duration": 27,
    "start_time": "2024-08-12T16:41:48.741Z"
   },
   {
    "duration": 13,
    "start_time": "2024-08-12T16:43:11.520Z"
   },
   {
    "duration": 44,
    "start_time": "2024-08-12T16:43:28.515Z"
   },
   {
    "duration": 12,
    "start_time": "2024-08-12T16:44:28.818Z"
   },
   {
    "duration": 43,
    "start_time": "2024-08-12T16:46:10.445Z"
   },
   {
    "duration": 11,
    "start_time": "2024-08-12T16:47:15.058Z"
   },
   {
    "duration": 8,
    "start_time": "2024-08-12T16:48:23.308Z"
   },
   {
    "duration": 7,
    "start_time": "2024-08-12T16:48:32.590Z"
   },
   {
    "duration": 12,
    "start_time": "2024-08-12T16:50:03.630Z"
   },
   {
    "duration": 10,
    "start_time": "2024-08-12T16:51:41.006Z"
   },
   {
    "duration": 10,
    "start_time": "2024-08-12T16:51:59.206Z"
   },
   {
    "duration": 11,
    "start_time": "2024-08-12T16:56:11.735Z"
   },
   {
    "duration": 11,
    "start_time": "2024-08-12T16:57:01.797Z"
   },
   {
    "duration": 12,
    "start_time": "2024-08-12T16:57:23.430Z"
   },
   {
    "duration": 10,
    "start_time": "2024-08-12T16:57:41.671Z"
   },
   {
    "duration": 12,
    "start_time": "2024-08-12T16:58:13.305Z"
   },
   {
    "duration": 11,
    "start_time": "2024-08-12T17:01:10.727Z"
   },
   {
    "duration": 12,
    "start_time": "2024-08-12T17:02:49.334Z"
   },
   {
    "duration": 11,
    "start_time": "2024-08-12T17:03:12.006Z"
   },
   {
    "duration": 12,
    "start_time": "2024-08-12T17:03:29.129Z"
   },
   {
    "duration": 12,
    "start_time": "2024-08-12T17:03:37.004Z"
   },
   {
    "duration": 12,
    "start_time": "2024-08-14T00:58:14.339Z"
   },
   {
    "duration": 11,
    "start_time": "2024-08-14T19:28:50.037Z"
   },
   {
    "duration": 12,
    "start_time": "2024-08-14T19:30:51.112Z"
   },
   {
    "duration": 10,
    "start_time": "2024-08-14T19:31:23.028Z"
   },
   {
    "duration": 10,
    "start_time": "2024-08-14T19:31:49.414Z"
   },
   {
    "duration": 14,
    "start_time": "2024-08-14T19:32:18.665Z"
   },
   {
    "duration": 14,
    "start_time": "2024-08-14T19:33:26.480Z"
   },
   {
    "duration": 11,
    "start_time": "2024-08-14T19:35:44.435Z"
   },
   {
    "duration": 375,
    "start_time": "2024-08-14T19:36:18.329Z"
   },
   {
    "duration": 12,
    "start_time": "2024-08-14T19:36:44.054Z"
   },
   {
    "duration": 50,
    "start_time": "2024-08-14T19:37:00.140Z"
   },
   {
    "duration": 30,
    "start_time": "2024-08-14T19:37:06.674Z"
   },
   {
    "duration": 11,
    "start_time": "2024-08-14T19:37:25.804Z"
   },
   {
    "duration": 11,
    "start_time": "2024-08-14T19:37:33.454Z"
   },
   {
    "duration": 10,
    "start_time": "2024-08-14T19:41:01.107Z"
   },
   {
    "duration": 12,
    "start_time": "2024-08-14T19:41:14.792Z"
   },
   {
    "duration": 12,
    "start_time": "2024-08-14T19:41:31.140Z"
   },
   {
    "duration": 8,
    "start_time": "2024-08-14T19:44:20.696Z"
   },
   {
    "duration": 11,
    "start_time": "2024-08-14T19:44:27.844Z"
   },
   {
    "duration": 11,
    "start_time": "2024-08-14T19:47:16.333Z"
   },
   {
    "duration": 40,
    "start_time": "2024-08-14T19:47:54.378Z"
   },
   {
    "duration": 13,
    "start_time": "2024-08-14T19:48:03.811Z"
   },
   {
    "duration": 6,
    "start_time": "2024-08-14T19:50:06.685Z"
   },
   {
    "duration": 39,
    "start_time": "2024-08-14T19:51:59.948Z"
   },
   {
    "duration": 14,
    "start_time": "2024-08-14T19:55:00.390Z"
   },
   {
    "duration": 10,
    "start_time": "2024-08-14T19:55:15.304Z"
   },
   {
    "duration": 75,
    "start_time": "2024-08-14T19:55:32.725Z"
   },
   {
    "duration": 39,
    "start_time": "2024-08-14T19:56:45.141Z"
   },
   {
    "duration": 12,
    "start_time": "2024-08-14T20:01:40.028Z"
   },
   {
    "duration": 12,
    "start_time": "2024-08-14T20:01:54.820Z"
   },
   {
    "duration": 12,
    "start_time": "2024-08-14T20:02:08.878Z"
   },
   {
    "duration": 13,
    "start_time": "2024-08-14T20:03:33.961Z"
   },
   {
    "duration": 38,
    "start_time": "2024-08-14T20:03:50.578Z"
   },
   {
    "duration": 12,
    "start_time": "2024-08-14T20:04:00.128Z"
   },
   {
    "duration": 38,
    "start_time": "2024-08-14T20:04:48.503Z"
   },
   {
    "duration": 10,
    "start_time": "2024-08-14T20:04:54.703Z"
   },
   {
    "duration": 11,
    "start_time": "2024-08-14T20:05:02.266Z"
   },
   {
    "duration": 11,
    "start_time": "2024-08-14T20:05:12.689Z"
   },
   {
    "duration": 11,
    "start_time": "2024-08-14T20:10:29.604Z"
   },
   {
    "duration": 11,
    "start_time": "2024-08-14T20:10:36.381Z"
   },
   {
    "duration": 11,
    "start_time": "2024-08-14T20:11:09.475Z"
   },
   {
    "duration": 40,
    "start_time": "2024-08-14T20:15:11.794Z"
   },
   {
    "duration": 12,
    "start_time": "2024-08-14T20:15:53.868Z"
   },
   {
    "duration": 13,
    "start_time": "2024-08-14T20:16:02.682Z"
   },
   {
    "duration": 11,
    "start_time": "2024-08-14T20:16:12.212Z"
   },
   {
    "duration": 11,
    "start_time": "2024-08-14T20:16:23.403Z"
   },
   {
    "duration": 42,
    "start_time": "2024-08-14T20:17:21.452Z"
   },
   {
    "duration": 39,
    "start_time": "2024-08-14T20:17:39.557Z"
   },
   {
    "duration": 38,
    "start_time": "2024-08-14T20:17:44.814Z"
   },
   {
    "duration": 11,
    "start_time": "2024-08-14T20:18:03.750Z"
   },
   {
    "duration": 15,
    "start_time": "2024-08-14T20:18:08.887Z"
   },
   {
    "duration": 11,
    "start_time": "2024-08-14T20:18:15.502Z"
   },
   {
    "duration": 11,
    "start_time": "2024-08-14T20:18:33.065Z"
   },
   {
    "duration": 12,
    "start_time": "2024-08-14T20:23:04.101Z"
   },
   {
    "duration": 17,
    "start_time": "2024-08-16T00:10:17.847Z"
   },
   {
    "duration": 10,
    "start_time": "2024-08-16T00:10:31.754Z"
   },
   {
    "duration": 12,
    "start_time": "2024-08-16T00:11:47.802Z"
   },
   {
    "duration": 10,
    "start_time": "2024-08-16T00:11:58.255Z"
   },
   {
    "duration": 10,
    "start_time": "2024-08-16T00:12:06.278Z"
   },
   {
    "duration": 11,
    "start_time": "2024-08-16T00:13:06.369Z"
   },
   {
    "duration": 14,
    "start_time": "2024-08-16T00:28:22.232Z"
   },
   {
    "duration": 10,
    "start_time": "2024-08-16T00:29:28.521Z"
   },
   {
    "duration": 11,
    "start_time": "2024-08-16T00:29:39.586Z"
   },
   {
    "duration": 11,
    "start_time": "2024-08-16T00:29:46.653Z"
   }
  ],
  "colab": {
   "provenance": []
  },
  "kernelspec": {
   "display_name": "Python 3 (ipykernel)",
   "language": "python",
   "name": "python3"
  },
  "language_info": {
   "codemirror_mode": {
    "name": "ipython",
    "version": 3
   },
   "file_extension": ".py",
   "mimetype": "text/x-python",
   "name": "python",
   "nbconvert_exporter": "python",
   "pygments_lexer": "ipython3",
   "version": "3.9.19"
  },
  "toc": {
   "base_numbering": 1,
   "nav_menu": {},
   "number_sections": true,
   "sideBar": true,
   "skip_h1_title": true,
   "title_cell": "Table of Contents",
   "title_sidebar": "Contents",
   "toc_cell": false,
   "toc_position": {},
   "toc_section_display": true,
   "toc_window_display": false
  }
 },
 "nbformat": 4,
 "nbformat_minor": 1
}
